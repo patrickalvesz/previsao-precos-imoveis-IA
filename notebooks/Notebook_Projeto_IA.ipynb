{
  "nbformat": 4,
  "nbformat_minor": 0,
  "metadata": {
    "colab": {
      "provenance": []
    },
    "kernelspec": {
      "name": "python3",
      "display_name": "Python 3"
    },
    "language_info": {
      "name": "python"
    }
  },
  "cells": [
    {
      "cell_type": "code",
      "execution_count": null,
      "metadata": {
        "colab": {
          "base_uri": "https://localhost:8080/"
        },
        "id": "6rAraGCNl2yI",
        "outputId": "54d54304-9191-4d45-c2da-00443a923ae5"
      },
      "outputs": [
        {
          "output_type": "stream",
          "name": "stdout",
          "text": [
            "Linhas originais: 188\n",
            "Após remover duplicatas e linhas em branco: 188\n",
            "Após remover outliers: 181\n",
            "<class 'pandas.core.frame.DataFrame'>\n",
            "Index: 181 entries, 0 to 187\n",
            "Data columns (total 6 columns):\n",
            " #   Column                      Non-Null Count  Dtype  \n",
            "---  ------                      --------------  -----  \n",
            " 0   Valor aproximado do imóvel  181 non-null    int64  \n",
            " 1   Metro quadrado              181 non-null    float64\n",
            " 2   Quartos                     181 non-null    int64  \n",
            " 3   Banheiros                   181 non-null    int64  \n",
            " 4   Metragem                    181 non-null    int64  \n",
            " 5   Vagas                       181 non-null    int64  \n",
            "dtypes: float64(1), int64(5)\n",
            "memory usage: 9.9 KB\n",
            "Tipo: None\n",
            "Base limpa salva como 'Base_Perdizes_Limpa.xlsx'\n"
          ]
        }
      ],
      "source": [
        "import pandas as pd\n",
        "\n",
        "# === 1. Carregar base ===\n",
        "file_path = \"/content/Base Perdizes.xlsx\"   # coloque o caminho do seu arquivo aqui\n",
        "df = pd.read_excel(file_path, sheet_name=\"Sheet1\")\n",
        "\n",
        "# === 2. Remover duplicatas ===\n",
        "df_limpa = df.drop_duplicates()\n",
        "\n",
        "# === 3. Remover linhas em branco ===\n",
        "df_limpa = df.dropna()\n",
        "\n",
        "# === 4. Função para remover outliers (método IQR) ===\n",
        "def remove_outliers_iqr(dataframe, columns):\n",
        "    df_clean = dataframe.copy()\n",
        "    for col in columns:\n",
        "        Q1 = df_clean[col].quantile(0.25)\n",
        "        Q3 = df_clean[col].quantile(0.75)\n",
        "        IQR = Q3 - Q1\n",
        "        lower_bound = Q1 - 1.5 * IQR\n",
        "        upper_bound = Q3 + 1.5 * IQR\n",
        "        df_clean = df_clean[(df_clean[col] >= lower_bound) & (df_clean[col] <= upper_bound)]\n",
        "    return df_clean\n",
        "\n",
        "# === 5. Aplicar limpeza nos dados numéricos ===\n",
        "colunas_numericas = df_limpa.select_dtypes(include=[\"int64\", \"float64\"]).columns\n",
        "df_limpo = remove_outliers_iqr(df_limpa, colunas_numericas)\n",
        "\n",
        "# === 6. Mostrar resultado ===\n",
        "print(f\"Linhas originais: {len(df)}\")\n",
        "print(f\"Após remover duplicatas e linhas em branco: {len(df_limpa)}\")\n",
        "print(f\"Após remover outliers: {len(df_limpo)}\")\n",
        "\n",
        "# === 7. Salvar resultado em novo arquivo ===\n",
        "df_limpo.to_excel(\"Base_Perdizes_Limpa.xlsx\", index=False)\n",
        "print(\"Base limpa salva como 'Base_Perdizes_Limpa.xlsx'\")"
      ]
    }
  ]
}